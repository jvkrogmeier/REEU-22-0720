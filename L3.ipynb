{
 "cells": [
  {
   "cell_type": "markdown",
   "metadata": {},
   "source": [
    "# Lecture 3\n",
    "\n",
    "(Summer 2022)\n",
    "\n",
    "## Outline of topics for this segment:\n",
    "\n",
    "1. Programming the chutes and ladders game\n",
    "2. Experimenting with it\n",
    "3. HW: Program up the game of war\n"
   ]
  },
  {
   "cell_type": "code",
   "execution_count": 1,
   "metadata": {},
   "outputs": [],
   "source": [
    "import math\n",
    "import numpy as np\n",
    "import matplotlib as mpl\n",
    "import matplotlib.pyplot as plt"
   ]
  },
  {
   "cell_type": "markdown",
   "metadata": {},
   "source": [
    "## The Chutes and Ladders Game ...\n",
    "\n",
    "Prof. Buckmaster introduced the chutes and ladders game as an example of computing using Excel. The typical game board, containing 100 squares, is shown below."
   ]
  },
  {
   "cell_type": "markdown",
   "metadata": {},
   "source": [
    "<img align=\"left\" src='Figs/Chutes&LaddersImage.png' width=\"500\"/>"
   ]
  },
  {
   "cell_type": "markdown",
   "metadata": {},
   "source": [
    "### Short version of the rules:\n",
    "\n",
    "1. Assume there are N players, who have been ordered according to the order in which they will play by some random means (e.g., by rolling the dice, drawing straws, etc.)\n",
    "\n",
    "2. Players all start at position 0.\n",
    "\n",
    "3. At time k (k = 0, 1, 2, ...) the positions of the N players are indicated by p_n(k) for n = 1, 2, 3, ..., N.\n",
    "\n",
    "4. Starting with player 1, each player throws a die and adds the value shown on the die to his position, i.e., p_1(k+1) = p_1(k) + {the roll of the die}. Then the player moves to that position on the board. If there is no chute or ladder at the new position, he remains there and his turn ends. On the other hand, if there is a chute or a ladder at the new position, the player must climb the ladder or fall down the chute as the case may be .... this change then yields the new position.\n",
    "\n",
    "5. The first player to reach position 100 exactly wins the game. If a player rolls the die and computes a new position that would take her past 100, then the roll is voided and she remains at her original position."
   ]
  },
  {
   "cell_type": "markdown",
   "metadata": {},
   "source": [
    "### Following is a function which rolls the die and computes the new position of a player."
   ]
  },
  {
   "cell_type": "code",
   "execution_count": 2,
   "metadata": {},
   "outputs": [],
   "source": [
    "# This dictionary stores the chutes and ladders board.\n",
    "CandLTable = {1:38, 4:14, 9:31, 16:6, 21:42, 28:84, 36:44, 47:26, 49:11, 51:67,\n",
    "             56:53, 63:19, 64:60, 71:91, 80:100, 87:24, 93:73, 95:75, 98:78}\n",
    "\n",
    "# The function to make a move\n",
    "def CandL_make_a_move(position,CandLTable):\n",
    "    roll = np.random.randint(1,6)\n",
    "    if position + roll > 100:\n",
    "        return position\n",
    "    position += roll\n",
    "    position = CandLTable.get(position, position)\n",
    "    return position"
   ]
  },
  {
   "cell_type": "markdown",
   "metadata": {},
   "source": [
    "### How does the `CandLTable` work?\n",
    "\n",
    "It is a dictionary, which means a collection of key-value pairs. Here is a link to `methods` that work with dictionaries ... <a href=\"https://www.w3schools.com/python/python_ref_dictionary.asp\" target=\"_blank\">Dictionary Methods</a>.\n",
    "\n",
    "Let's try a few ..."
   ]
  },
  {
   "cell_type": "code",
   "execution_count": 3,
   "metadata": {},
   "outputs": [
    {
     "name": "stdout",
     "output_type": "stream",
     "text": [
      "dict_keys([1, 4, 9, 16, 21, 28, 36, 47, 49, 51, 56, 63, 64, 71, 80, 87, 93, 95, 98])\n"
     ]
    }
   ],
   "source": [
    "print(CandLTable.keys())"
   ]
  },
  {
   "cell_type": "code",
   "execution_count": 4,
   "metadata": {},
   "outputs": [
    {
     "name": "stdout",
     "output_type": "stream",
     "text": [
      "dict_values([38, 14, 31, 6, 42, 84, 44, 26, 11, 67, 53, 19, 60, 91, 100, 24, 73, 75, 78])\n"
     ]
    }
   ],
   "source": [
    "print(CandLTable.values())"
   ]
  },
  {
   "cell_type": "code",
   "execution_count": 5,
   "metadata": {},
   "outputs": [
    {
     "name": "stdout",
     "output_type": "stream",
     "text": [
      "dict_items([(1, 38), (4, 14), (9, 31), (16, 6), (21, 42), (28, 84), (36, 44), (47, 26), (49, 11), (51, 67), (56, 53), (63, 19), (64, 60), (71, 91), (80, 100), (87, 24), (93, 73), (95, 75), (98, 78)])\n"
     ]
    }
   ],
   "source": [
    "print(CandLTable.items())"
   ]
  },
  {
   "cell_type": "code",
   "execution_count": 6,
   "metadata": {},
   "outputs": [
    {
     "data": {
      "text/plain": [
       "11"
      ]
     },
     "execution_count": 6,
     "metadata": {},
     "output_type": "execute_result"
    }
   ],
   "source": [
    "# Simplest usage, good for when we know that the referenced key exists ...\n",
    "CandLTable.get(49)"
   ]
  },
  {
   "cell_type": "code",
   "execution_count": 7,
   "metadata": {},
   "outputs": [],
   "source": [
    "# What happens if the key does not exist in the dictionary?\n",
    "CandLTable.get(48)"
   ]
  },
  {
   "cell_type": "markdown",
   "metadata": {},
   "source": [
    "### Nothing happens apparently"
   ]
  },
  {
   "cell_type": "code",
   "execution_count": 8,
   "metadata": {},
   "outputs": [
    {
     "name": "stdout",
     "output_type": "stream",
     "text": [
      "None\n"
     ]
    }
   ],
   "source": [
    "# Sometimes you can use print() to force the interpreter to show a value ...\n",
    "print(CandLTable.get(48))"
   ]
  },
  {
   "cell_type": "markdown",
   "metadata": {},
   "source": [
    "### This is why we need the second argument in the call to the dictionary. It specifies what to return in the case that the key is missing ..."
   ]
  },
  {
   "cell_type": "code",
   "execution_count": 9,
   "metadata": {},
   "outputs": [
    {
     "name": "stdout",
     "output_type": "stream",
     "text": [
      "-1\n"
     ]
    }
   ],
   "source": [
    "# Specifying a second argument in the call\n",
    "print(CandLTable.get(48,-1))"
   ]
  },
  {
   "cell_type": "markdown",
   "metadata": {},
   "source": [
    "### How does `random` work?\n",
    "\n",
    "Random number generators are covered in many places ... <a href=\"https://numpy.org/doc/stable/reference/random/index.html?highlight=random%20sampling%20numpy%20random#module-numpy.random\" target=\"_blank\">Random Numbers in NumPy</a>."
   ]
  },
  {
   "cell_type": "code",
   "execution_count": 10,
   "metadata": {},
   "outputs": [
    {
     "name": "stdout",
     "output_type": "stream",
     "text": [
      "3\n"
     ]
    }
   ],
   "source": [
    "print(np.random.randint(1,6))"
   ]
  },
  {
   "cell_type": "code",
   "execution_count": 11,
   "metadata": {},
   "outputs": [
    {
     "name": "stdout",
     "output_type": "stream",
     "text": [
      "3\n",
      "2\n",
      "5\n",
      "2\n",
      "3\n",
      "2\n"
     ]
    }
   ],
   "source": [
    "np.random.seed(12345)\n",
    "print(np.random.randint(1,6))\n",
    "print(np.random.randint(1,6))\n",
    "print(np.random.randint(1,6))\n",
    "print(np.random.randint(1,6))\n",
    "print(np.random.randint(1,6))\n",
    "print(np.random.randint(1,6))"
   ]
  },
  {
   "cell_type": "code",
   "execution_count": null,
   "metadata": {},
   "outputs": [],
   "source": []
  },
  {
   "cell_type": "code",
   "execution_count": null,
   "metadata": {},
   "outputs": [],
   "source": []
  },
  {
   "cell_type": "code",
   "execution_count": null,
   "metadata": {},
   "outputs": [],
   "source": []
  },
  {
   "cell_type": "markdown",
   "metadata": {},
   "source": [
    "# Program Chutes and Ladders Game\n",
    "\n",
    "Write a program which plays a game between two people until one wins and produces a record of the game play.\n",
    "\n",
    "Convert your the single game code into a function and then write a program to play a large number of games one after another keeping a record of who won and how long the game lasted. Then compute statistics and/or histograms.\n",
    "\n",
    "Finally, explore how changes to the positions of chutes and ladders might change the game."
   ]
  },
  {
   "cell_type": "markdown",
   "metadata": {},
   "source": [
    "### Basic Game"
   ]
  },
  {
   "cell_type": "code",
   "execution_count": 12,
   "metadata": {},
   "outputs": [
    {
     "name": "stdout",
     "output_type": "stream",
     "text": [
      "Player 1 Wins!!\n"
     ]
    },
    {
     "data": {
      "image/png": "[encoded data removed]",
      "text/plain": [
       "<Figure size 432x288 with 1 Axes>"
      ]
     },
     "metadata": {
      "needs_background": "light"
     },
     "output_type": "display_data"
    }
   ],
   "source": [
    "P1 = np.array([0])\n",
    "P2 = np.array([0])\n",
    "\n",
    "p1 = 0\n",
    "p2 = 0\n",
    "\n",
    "while (p1 < 100 and p2 < 100):\n",
    "    p1 = CandL_make_a_move(p1, CandLTable)\n",
    "    p2 = CandL_make_a_move(p2, CandLTable)\n",
    "    P1 = np.append(P1, p1)\n",
    "    P2 = np.append(P2, p2)\n",
    "    if p1 == 100:\n",
    "        print('Player 1 Wins!!')\n",
    "    elif p2 == 100:\n",
    "        print('Player 2 Wins!!')\n",
    "\n",
    "# This simply plots the positions of the two players over the\n",
    "# course of the game.\n",
    "fig3 = plt.figure()\n",
    "plt.style.use('seaborn-dark-palette')\n",
    "plt.plot(P1,'*')\n",
    "plt.plot(P2,'+')\n",
    "plt.grid()"
   ]
  },
  {
   "cell_type": "markdown",
   "metadata": {},
   "source": [
    "### Playing many games"
   ]
  },
  {
   "cell_type": "code",
   "execution_count": 13,
   "metadata": {},
   "outputs": [
    {
     "name": "stdout",
     "output_type": "stream",
     "text": [
      "Average number of rounds per game is 30.25\n",
      "Player 1 won 497 of 1000 games\n",
      "Player 2 won 503 of 1000 games\n"
     ]
    },
    {
     "data": {
      "text/plain": [
       "(array([ 60., 113., 136.,  80., 112., 107.,  52.,  83.,  63.,  27.,  32.,\n",
       "         34.,  15.,  17.,  19.,   8.,   8.,  14.,   5.,   2.,   2.,   3.,\n",
       "          3.,   2.,   1.,   1.,   0.,   0.,   0.,   1.]),\n",
       " array([  8. ,  11.7,  15.4,  19.1,  22.8,  26.5,  30.2,  33.9,  37.6,\n",
       "         41.3,  45. ,  48.7,  52.4,  56.1,  59.8,  63.5,  67.2,  70.9,\n",
       "         74.6,  78.3,  82. ,  85.7,  89.4,  93.1,  96.8, 100.5, 104.2,\n",
       "        107.9, 111.6, 115.3, 119. ]),\n",
       " <BarContainer object of 30 artists>)"
      ]
     },
     "execution_count": 13,
     "metadata": {},
     "output_type": "execute_result"
    },
    {
     "data": {
      "image/png": "[encoded data removed]",
      "text/plain": [
       "<Figure size 432x288 with 1 Axes>"
      ]
     },
     "metadata": {
      "needs_background": "light"
     },
     "output_type": "display_data"
    }
   ],
   "source": [
    "# Convert game code to function\n",
    "\n",
    "def CandL_play_a_game(CandLTable):\n",
    "    p1 = 0\n",
    "    p2 = 0\n",
    "    Nmoves = 0\n",
    "    p1wins = 0\n",
    "    p2wins = 0\n",
    "    while (p1 < 100 and p2 < 100):\n",
    "        p1 = CandL_make_a_move(p1, CandLTable)\n",
    "        p2 = CandL_make_a_move(p2, CandLTable)\n",
    "        Nmoves += 1\n",
    "        if p1 == 100:\n",
    "            p1wins += 1\n",
    "        elif p2 == 100:\n",
    "            p2wins += 1\n",
    "    return Nmoves, p1wins, p2wins\n",
    "     \n",
    "Ngames = 1000\n",
    "Np1wins = 0\n",
    "Np2wins = 0\n",
    "\n",
    "GameLengths = np.array([])\n",
    "\n",
    "for k in range(Ngames):\n",
    "    L = CandL_play_a_game(CandLTable)\n",
    "    Np1wins += L[1]\n",
    "    Np2wins += L[2]\n",
    "    GameLengths = np.append(GameLengths, L[0])\n",
    "\n",
    "print('Average number of rounds per game is {:.2f}'.format(np.mean(GameLengths)))\n",
    "print('Player 1 won {} of {} games'.format(Np1wins,Ngames))\n",
    "print('Player 2 won {} of {} games'.format(Np2wins,Ngames))\n",
    "\n",
    "plt.hist(GameLengths, bins=30)"
   ]
  },
  {
   "cell_type": "markdown",
   "metadata": {},
   "source": [
    "### Modify the table to see it's effect on the game ..."
   ]
  },
  {
   "cell_type": "code",
   "execution_count": 14,
   "metadata": {},
   "outputs": [
    {
     "name": "stdout",
     "output_type": "stream",
     "text": [
      "Average number of rounds per game is 158.29\n",
      "Player 1 won 500 of 1000 games\n",
      "Player 2 won 500 of 1000 games\n"
     ]
    },
    {
     "data": {
      "text/plain": [
       "(array([155., 157., 136., 122.,  88.,  60.,  62.,  37.,  42.,  29.,  19.,\n",
       "         14.,  12.,   9.,  13.,   6.,   6.,   8.,   5.,   5.,   6.,   2.,\n",
       "          1.,   0.,   2.,   1.,   1.,   0.,   0.,   2.]),\n",
       " array([ 18.        ,  47.33333333,  76.66666667, 106.        ,\n",
       "        135.33333333, 164.66666667, 194.        , 223.33333333,\n",
       "        252.66666667, 282.        , 311.33333333, 340.66666667,\n",
       "        370.        , 399.33333333, 428.66666667, 458.        ,\n",
       "        487.33333333, 516.66666667, 546.        , 575.33333333,\n",
       "        604.66666667, 634.        , 663.33333333, 692.66666667,\n",
       "        722.        , 751.33333333, 780.66666667, 810.        ,\n",
       "        839.33333333, 868.66666667, 898.        ]),\n",
       " <BarContainer object of 30 artists>)"
      ]
     },
     "execution_count": 14,
     "metadata": {},
     "output_type": "execute_result"
    },
    {
     "data": {
      "image/png": "[encoded data removed]",
      "text/plain": [
       "<Figure size 432x288 with 1 Axes>"
      ]
     },
     "metadata": {
      "needs_background": "light"
     },
     "output_type": "display_data"
    }
   ],
   "source": [
    "# This dictionary stores the chutes and ladders board.\n",
    "CandLTable2 = {4:14, 9:31, 16:6, 21:42, 36:44, 47:26, 49:11, 51:67,\n",
    "             56:53, 63:19, 64:60, 80:2, 87:24, 93:73, 95:75, 98:78}\n",
    "\n",
    "Ngames = 1000\n",
    "Np1wins = 0\n",
    "Np2wins = 0\n",
    "\n",
    "GameLengths = np.array([])\n",
    "\n",
    "for k in range(Ngames):\n",
    "    L = CandL_play_a_game(CandLTable2)\n",
    "    Np1wins += L[1]\n",
    "    Np2wins += L[2]\n",
    "    GameLengths = np.append(GameLengths, L[0])\n",
    "    \n",
    "print('Average number of rounds per game is {:.2f}'.format(np.mean(GameLengths)))\n",
    "print('Player 1 won {} of {} games'.format(Np1wins,Ngames))\n",
    "print('Player 2 won {} of {} games'.format(Np2wins,Ngames))\n",
    "\n",
    "plt.hist(GameLengths, bins=30)"
   ]
  },
  {
   "cell_type": "code",
   "execution_count": null,
   "metadata": {},
   "outputs": [],
   "source": []
  },
  {
   "cell_type": "code",
   "execution_count": null,
   "metadata": {},
   "outputs": [],
   "source": []
  },
  {
   "cell_type": "markdown",
   "metadata": {},
   "source": [
    "# War!\n",
    "\n",
    "<a href=\"https://bicyclecards.com/how-to-play/war/\" target=\"_blank\">The War Card Game</a>.\n",
    "\n",
    "Need a data structure to hold the state of a players cards ... \n",
    "\n",
    "Could number the cards from top to bottom (13 = A, 12 = K, 11 = Q, 10 = J, 9 = 10, 8 = 9, 7 = 8, 6 = 7, 5 = 6, 4 = 5, 3 = 4, 2 = 3, 1 = 2 ...\n",
    "\n",
    "There are four suites meaning each of the numbers above is repeated 4 times. All are equivalent.\n",
    "\n",
    "Need a routine to shuffle a list ...\n",
    "\n",
    "### Following are some code snippets I've explored for trying to build a war game .... It's not finished, by the way."
   ]
  },
  {
   "cell_type": "code",
   "execution_count": 15,
   "metadata": {},
   "outputs": [],
   "source": [
    "import random"
   ]
  },
  {
   "cell_type": "code",
   "execution_count": 16,
   "metadata": {},
   "outputs": [],
   "source": [
    "fulldeck = [13, 13, 13, 13, 12, 12, 12, 12, 11, 11, 11, 11, 10, 10, 10, 10, 9, 9, 9, 9, 8, 8, 8, 8, 7, 7, 7, 7,\n",
    "           6, 6, 6, 6, 5, 5, 5, 5, 4, 4, 4, 4, 3, 3, 3, 3, 2, 2, 2, 2, 1, 1, 1, 1]"
   ]
  },
  {
   "cell_type": "code",
   "execution_count": 17,
   "metadata": {},
   "outputs": [],
   "source": [
    "random.shuffle(fulldeck)"
   ]
  },
  {
   "cell_type": "code",
   "execution_count": 18,
   "metadata": {},
   "outputs": [],
   "source": [
    "player1 = fulldeck[0:52:2]\n",
    "player2 = fulldeck[1:52:2]"
   ]
  },
  {
   "cell_type": "code",
   "execution_count": 19,
   "metadata": {},
   "outputs": [
    {
     "name": "stdout",
     "output_type": "stream",
     "text": [
      "26\n",
      "[1, 6, 3, 12, 10, 2, 11, 5, 4, 11, 9, 5, 2, 8, 3, 9, 13, 10, 2, 5, 2, 13, 8, 11, 1, 10]\n",
      "26\n",
      "[9, 7, 6, 12, 6, 5, 6, 4, 13, 7, 8, 10, 4, 11, 9, 12, 1, 8, 3, 7, 3, 12, 1, 13, 4, 7]\n"
     ]
    }
   ],
   "source": [
    "print(len(player1))\n",
    "print(player1)\n",
    "print(len(player2))\n",
    "print(player2)"
   ]
  },
  {
   "cell_type": "code",
   "execution_count": null,
   "metadata": {},
   "outputs": [],
   "source": []
  },
  {
   "cell_type": "markdown",
   "metadata": {},
   "source": [
    "Now I need a function that compares two lists and plays the game ..."
   ]
  },
  {
   "cell_type": "code",
   "execution_count": null,
   "metadata": {},
   "outputs": [],
   "source": []
  },
  {
   "cell_type": "code",
   "execution_count": 20,
   "metadata": {},
   "outputs": [
    {
     "name": "stdout",
     "output_type": "stream",
     "text": [
      "20\n",
      "[6, 10, 6, 11, 4, 5, 7, 11, 8, 9, 1, 13, 8, 10, 12, 13, 1, 8, 7, 10]\n",
      "32\n",
      "[1, 9, 6, 7, 3, 6, 12, 12, 2, 5, 4, 13, 5, 10, 2, 4, 8, 11, 3, 9, 9, 12, 2, 3, 5, 7, 2, 3, 11, 13, 1, 4]\n"
     ]
    }
   ],
   "source": [
    "\n",
    "newplayer1 = [];\n",
    "newplayer2 = [];\n",
    "\n",
    "K = min(len(player1),len(player2))\n",
    "#L = max(len(player1),len(player2))\n",
    "\n",
    "for n in range(K):\n",
    "    \n",
    "    if player1[0] <= player2[0]:\n",
    "        newplayer2.append(player1[0])\n",
    "        newplayer2.append(player2[0])\n",
    "    else:\n",
    "        newplayer1.append(player2[0])\n",
    "        newplayer1.append(player1[0])\n",
    "        \n",
    "    del player1[0]\n",
    "    del player2[0]\n",
    "        \n",
    "#    n = n + 1\n",
    "    \n",
    "player1 = newplayer1 + player1;\n",
    "player2 = newplayer2 + player2;\n",
    "\n",
    "print(len(player1))\n",
    "print(player1)\n",
    "print(len(player2))\n",
    "print(player2)\n",
    "    "
   ]
  },
  {
   "cell_type": "markdown",
   "metadata": {},
   "source": [
    "### There's plenty of work remaining to figure out the game:\n",
    "\n",
    "* How to handle ties that make wars?\n",
    "* What to do as one player's card list gets short? Maybe they won't have enough cards to complete the war.\n",
    "* How to build the code to run many games to look at statistics for winning and losing?\n",
    "* How to answer a question such as: Given I'm down to only 10 cards, what are my odds of coming back and winning?"
   ]
  },
  {
   "cell_type": "code",
   "execution_count": null,
   "metadata": {},
   "outputs": [],
   "source": []
  }
 ],
 "metadata": {
  "kernelspec": {
   "display_name": "Python 3",
   "language": "python",
   "name": "python3"
  },
  "language_info": {
   "codemirror_mode": {
    "name": "ipython",
    "version": 3
   },
   "file_extension": ".py",
   "mimetype": "text/x-python",
   "name": "python",
   "nbconvert_exporter": "python",
   "pygments_lexer": "ipython3",
   "version": "3.8.8"
  }
 },
 "nbformat": 4,
 "nbformat_minor": 2
}
